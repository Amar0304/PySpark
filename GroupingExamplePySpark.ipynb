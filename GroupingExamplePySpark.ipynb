{
 "cells": [
  {
   "cell_type": "code",
   "execution_count": 1,
   "metadata": {},
   "outputs": [],
   "source": [
    "from pyspark.sql import SparkSession\n",
    "from pyspark.sql.functions import *\n",
    "from pyspark.sql.types import *\n",
    "\n",
    "def createConnectionSpark():\n",
    "    spark=SparkSession.builder.master(\"local\").appName(\"Agg_Sales_Cannada\").getOrCreate()\n",
    "    return spark\n"
   ]
  },
  {
   "cell_type": "code",
   "execution_count": 2,
   "metadata": {},
   "outputs": [
    {
     "name": "stdout",
     "output_type": "stream",
     "text": [
      "Connection Established to spark\n"
     ]
    }
   ],
   "source": [
    "spark=''\n",
    "try :\n",
    "    spark=createConnectionSpark()\n",
    "    if \"pyspark\" or \"session\" in spark:\n",
    "        print(\"Connection Established to spark\")\n",
    "except :\n",
    "    print(\"Connection to spark not Established. Please look into it !\")\n",
    "    "
   ]
  },
  {
   "cell_type": "code",
   "execution_count": 3,
   "metadata": {},
   "outputs": [],
   "source": [
    "def readDatainDF(spark):\n",
    "    myManualSchema = StructType([\n",
    "    StructField(\"ProductID\", IntegerType(),False),\n",
    "    StructField(\"'Date'\", DateType()),\n",
    "    StructField(\"Zip\", StringType()),\n",
    "    StructField(\"Units\", IntegerType()),\n",
    "    StructField(\"Revenue\", DoubleType() ),\n",
    "    StructField(\"Country\", StringType())\n",
    "    ])\n",
    "\n",
    "    df=spark.read.format(\"csv\").schema(myManualSchema).load(\"D:\\Data/Edx_Data/International/CA Sales.csv\")\n",
    "    return df\n"
   ]
  },
  {
   "cell_type": "code",
   "execution_count": 4,
   "metadata": {},
   "outputs": [
    {
     "data": {
      "text/plain": [
       "75319"
      ]
     },
     "execution_count": 4,
     "metadata": {},
     "output_type": "execute_result"
    }
   ],
   "source": [
    "df=readDatainDF(spark)\n",
    "df.count()"
   ]
  },
  {
   "cell_type": "code",
   "execution_count": 5,
   "metadata": {},
   "outputs": [
    {
     "name": "stdout",
     "output_type": "stream",
     "text": [
      "+---------+------+----+-----+-------+-------+\n",
      "|ProductID|'Date'| Zip|Units|Revenue|Country|\n",
      "+---------+------+----+-----+-------+-------+\n",
      "|     null|  null|null| null|   null|   null|\n",
      "|     null|  null|null| null|   null|   null|\n",
      "|     null|  null|null| null|   null|   null|\n",
      "|     null|  null|null| null|   null|   null|\n",
      "|     null|  null|null| null|   null|   null|\n",
      "|     null|  null|null| null|   null|   null|\n",
      "|     null|  null|null| null|   null|   null|\n",
      "|     null|  null|null| null|   null|   null|\n",
      "|     null|  null|null| null|   null|   null|\n",
      "|     null|  null|null| null|   null|   null|\n",
      "|     null|  null|null| null|   null|   null|\n",
      "|     null|  null|null| null|   null|   null|\n",
      "|     null|  null|null| null|   null|   null|\n",
      "|     null|  null|null| null|   null|   null|\n",
      "|     null|  null|null| null|   null|   null|\n",
      "|     null|  null|null| null|   null|   null|\n",
      "|     null|  null|null| null|   null|   null|\n",
      "|     null|  null|null| null|   null|   null|\n",
      "|     null|  null|null| null|   null|   null|\n",
      "|     null|  null|null| null|   null|   null|\n",
      "+---------+------+----+-----+-------+-------+\n",
      "only showing top 20 rows\n",
      "\n"
     ]
    }
   ],
   "source": [
    "df.show()"
   ]
  },
  {
   "cell_type": "code",
   "execution_count": 6,
   "metadata": {},
   "outputs": [
    {
     "name": "stdout",
     "output_type": "stream",
     "text": [
      "+---+---------+----------+\n",
      "|Zip|ProductID|SumRevenue|\n",
      "+---+---------+----------+\n",
      "|R3G|      826|   41851.0|\n",
      "|T6E|      826|   41490.0|\n",
      "|M6G|      826|   40371.0|\n",
      "|R3H|      826|   37177.0|\n",
      "|R3V|      826|   36784.0|\n",
      "|L5N|      826|   29942.0|\n",
      "|T6E|      487|   29385.0|\n",
      "|L5N|     2332|   28770.0|\n",
      "|L5N|      927|   28138.0|\n",
      "|L5N|     2045|   26955.0|\n",
      "|L5N|     2055|   25811.0|\n",
      "|T6G|      826|   25222.0|\n",
      "|R3G|      609|   24842.0|\n",
      "|T2C|      487|   24065.0|\n",
      "|L5N|     2064|   22966.0|\n",
      "|K1H|     2055|   22707.0|\n",
      "|V6Z|      438|   22439.0|\n",
      "|T6V|      609|   22348.0|\n",
      "|V6Z|      609|   21797.0|\n",
      "|L5P|      407|   21595.0|\n",
      "+---+---------+----------+\n",
      "only showing top 20 rows\n",
      "\n"
     ]
    }
   ],
   "source": [
    "from pyspark.sql.functions  import *\n",
    "df.groupBy(\"Zip\",\"ProductID\").agg(sum(round(\"Revenue\")).alias(\"SumRevenue\")).orderBy(desc(\"SumRevenue\")).show()"
   ]
  },
  {
   "cell_type": "code",
   "execution_count": 7,
   "metadata": {},
   "outputs": [
    {
     "name": "stdout",
     "output_type": "stream",
     "text": [
      "[('ProductID', 'int'), (\"'Date'\", 'date'), ('Zip', 'string'), ('Units', 'int'), ('Revenue', 'double'), ('Country', 'string')]\n"
     ]
    }
   ],
   "source": [
    "print(df.dtypes)"
   ]
  },
  {
   "cell_type": "code",
   "execution_count": 8,
   "metadata": {},
   "outputs": [
    {
     "name": "stdout",
     "output_type": "stream",
     "text": [
      "root\n",
      " |-- ProductID: integer (nullable = true)\n",
      " |-- 'Date': date (nullable = true)\n",
      " |-- Zip: string (nullable = true)\n",
      " |-- Units: integer (nullable = true)\n",
      " |-- Revenue: double (nullable = true)\n",
      " |-- Country: string (nullable = true)\n",
      "\n"
     ]
    }
   ],
   "source": [
    "df.printSchema()"
   ]
  },
  {
   "cell_type": "code",
   "execution_count": 19,
   "metadata": {},
   "outputs": [],
   "source": [
    "df2=spark.read.format(\"csv\").option(\"inferSchema\",\"true\").option(\"header\",\"true\").load(\"D:\\Data/Edx_Data/International/CA Sales.csv\")"
   ]
  },
  {
   "cell_type": "code",
   "execution_count": 22,
   "metadata": {},
   "outputs": [
    {
     "name": "stdout",
     "output_type": "stream",
     "text": [
      "root\n",
      " |-- ProductID: integer (nullable = true)\n",
      " |-- Date: string (nullable = true)\n",
      " |-- Zip: string (nullable = true)\n",
      " |-- Units: integer (nullable = true)\n",
      " |-- Revenue: double (nullable = true)\n",
      " |-- Country: string (nullable = true)\n",
      "\n",
      "+---------+---------+---+-----+--------+-------+\n",
      "|ProductID|     Date|Zip|Units| Revenue|Country|\n",
      "+---------+---------+---+-----+--------+-------+\n",
      "|      725|1/15/1999|H1B|    1|115.4475| Canada|\n",
      "|     2235|1/15/1999|H1B|    2| 131.145| Canada|\n",
      "|      713|1/15/1999|H1B|    1|160.0725| Canada|\n",
      "|      574| 6/5/2002|H1B|    1|869.1375| Canada|\n",
      "|       94|2/15/1999|H1B|    1|  866.25| Canada|\n",
      "+---------+---------+---+-----+--------+-------+\n",
      "only showing top 5 rows\n",
      "\n"
     ]
    }
   ],
   "source": [
    "df2.count()\n",
    "df2.printSchema()\n",
    "df2.show(5)"
   ]
  },
  {
   "cell_type": "code",
   "execution_count": null,
   "metadata": {},
   "outputs": [],
   "source": []
  }
 ],
 "metadata": {
  "kernelspec": {
   "display_name": "Python 3",
   "language": "python",
   "name": "python3"
  },
  "language_info": {
   "codemirror_mode": {
    "name": "ipython",
    "version": 3
   },
   "file_extension": ".py",
   "mimetype": "text/x-python",
   "name": "python",
   "nbconvert_exporter": "python",
   "pygments_lexer": "ipython3",
   "version": "3.7.4"
  }
 },
 "nbformat": 4,
 "nbformat_minor": 2
}
