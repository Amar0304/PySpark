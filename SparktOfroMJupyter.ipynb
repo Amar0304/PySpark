{
 "cells": [
  {
   "cell_type": "markdown",
   "metadata": {},
   "source": [
    "# Connecting Spark using Jupyter Notebook"
   ]
  },
  {
   "cell_type": "code",
   "execution_count": 3,
   "metadata": {},
   "outputs": [
    {
     "name": "stdout",
     "output_type": "stream",
     "text": [
      "<pyspark.sql.session.SparkSession object at 0x0000012B4D1B1948>\n"
     ]
    }
   ],
   "source": [
    "from pyspark.sql import  SparkSession \n",
    "\n",
    "spark=SparkSession.builder.master(\"local\").appName(\"Test\").getOrCreate()\n",
    "print(spark)"
   ]
  },
  {
   "cell_type": "code",
   "execution_count": 4,
   "metadata": {},
   "outputs": [],
   "source": [
    "DF=spark.read.option(\"header\",\"true\").option(\"inferSchema\",\"true\").csv(\"D:\\Sample_Data/Bhav.csv\")"
   ]
  },
  {
   "cell_type": "code",
   "execution_count": 8,
   "metadata": {},
   "outputs": [
    {
     "name": "stdout",
     "output_type": "stream",
     "text": [
      "Data Frame\n",
      "+----------+------+--------+-------+--------+--------+-------+---------+---------+------------+-----------+-----------+------------+----+\n",
      "|    SYMBOL|SERIES|    OPEN|   HIGH|     LOW|   CLOSE|   LAST|PREVCLOSE|TOTTRDQTY|   TOTTRDVAL|  TIMESTAMP|TOTALTRADES|        ISIN|_c13|\n",
      "+----------+------+--------+-------+--------+--------+-------+---------+---------+------------+-----------+-----------+------------+----+\n",
      "| 20MICRONS|    EQ|    38.9|   38.9|   38.05|    38.2|   38.3|     38.5|    29876|  1142482.25|29-MAR-2019|        275|INE144J01027|null|\n",
      "|21STCENMGM|    EQ|   19.25|  19.25|   19.25|   19.25|  19.25|     18.9|      383|     7372.75|29-MAR-2019|          4|INE253B01015|null|\n",
      "|3IINFOTECH|    EQ|     3.9|    3.9|     3.8|    3.85|   3.85|      3.8|  2509649|   9665838.6|29-MAR-2019|        678|INE748C01020|null|\n",
      "|   3MINDIA|    EQ|24005.05|24300.0|23811.25|24260.85|24250.0| 24035.65|     1128|2.71397197E7|29-MAR-2019|        595|INE470A01017|null|\n",
      "|    3PLAND|    EQ|    11.2|   11.2|    11.2|    11.2|   11.2|    11.75|      100|      1120.0|29-MAR-2019|          2|INE105C01023|null|\n",
      "+----------+------+--------+-------+--------+--------+-------+---------+---------+------------+-----------+-----------+------------+----+\n",
      "only showing top 5 rows\n",
      "\n"
     ]
    }
   ],
   "source": [
    "print(\"Data Frame\")\n",
    "DF.show(5)"
   ]
  },
  {
   "cell_type": "code",
   "execution_count": 7,
   "metadata": {},
   "outputs": [
    {
     "data": {
      "text/plain": [
       "1932"
      ]
     },
     "execution_count": 7,
     "metadata": {},
     "output_type": "execute_result"
    }
   ],
   "source": [
    "DF.count()"
   ]
  },
  {
   "cell_type": "code",
   "execution_count": 18,
   "metadata": {},
   "outputs": [],
   "source": [
    "spark.stop()"
   ]
  },
  {
   "cell_type": "code",
   "execution_count": null,
   "metadata": {},
   "outputs": [],
   "source": []
  }
 ],
 "metadata": {
  "kernelspec": {
   "display_name": "Python 3",
   "language": "python",
   "name": "python3"
  },
  "language_info": {
   "codemirror_mode": {
    "name": "ipython",
    "version": 3
   },
   "file_extension": ".py",
   "mimetype": "text/x-python",
   "name": "python",
   "nbconvert_exporter": "python",
   "pygments_lexer": "ipython3",
   "version": "3.7.4"
  }
 },
 "nbformat": 4,
 "nbformat_minor": 2
}
